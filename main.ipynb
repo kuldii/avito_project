{
 "cells": [
  {
   "cell_type": "code",
   "execution_count": 3,
   "metadata": {},
   "outputs": [],
   "source": [
    "import pandas as pd\n",
    "\n",
    "dataset_filename = \"assets/avito_dataset.xlsx\"\n",
    "\n",
    "df = pd.read_excel(dataset_filename, sheet_name=\"Sheet1\")"
   ]
  },
  {
   "cell_type": "code",
   "execution_count": 5,
   "metadata": {},
   "outputs": [
    {
     "name": "stdout",
     "output_type": "stream",
     "text": [
      "<class 'pandas.core.frame.DataFrame'>\n",
      "RangeIndex: 19803 entries, 0 to 19802\n",
      "Data columns (total 71 columns):\n",
      " #   Column                            Non-Null Count  Dtype  \n",
      "---  ------                            --------------  -----  \n",
      " 0   Ссылка сбора                      19803 non-null  object \n",
      " 1   Продавец                          19803 non-null  object \n",
      " 2   Контактное лицо                   13210 non-null  object \n",
      " 3   Тип продавца                      19803 non-null  object \n",
      " 4   Пол продавца                      19803 non-null  object \n",
      " 5   Заголовок                         19803 non-null  object \n",
      " 6   Описание                          19803 non-null  object \n",
      " 7   Цена                              19803 non-null  int64  \n",
      " 8   Регион                            19803 non-null  object \n",
      " 9   Город                             19803 non-null  object \n",
      " 10  Метро                             19706 non-null  object \n",
      " 11  Метро2                            10326 non-null  object \n",
      " 12  Метро. Время                      10326 non-null  object \n",
      " 13  Район                             9444 non-null   object \n",
      " 14  Адрес                             19803 non-null  object \n",
      " 15  Категория                         19803 non-null  object \n",
      " 16  Подкатегория                      19803 non-null  object \n",
      " 17  Ссылка на объявление              19803 non-null  object \n",
      " 18  Дата объявления                   19803 non-null  object \n",
      " 19  Номер объявления                  19803 non-null  int64  \n",
      " 20  Ссылки на картинки                19770 non-null  object \n",
      " 21  Широта                            19803 non-null  float64\n",
      " 22  Долгота                           19803 non-null  float64\n",
      " 23  Параметры                         19803 non-null  object \n",
      " 24  Сегодня просмотров                13074 non-null  float64\n",
      " 25  Всего просмотров                  19516 non-null  float64\n",
      " 26  Продавец. Ссылка                  19803 non-null  object \n",
      " 27  Продавец. Компания                19803 non-null  object \n",
      " 28  Продавец. Магазин                 19803 non-null  object \n",
      " 29  Продавец. Регистрация             4020 non-null   object \n",
      " 30  Продавец. Активные объявления     19803 non-null  object \n",
      " 31  Продавец. Завершенные объявления  19803 non-null  object \n",
      " 32  Продавец. Продажи с доставкой     1753 non-null   object \n",
      " 33  Продавец. Рейтинг                 3581 non-null   float64\n",
      " 34  Продавец. Кол-во отзывов          19803 non-null  int64  \n",
      " 35  Можно написать сообщение          19803 non-null  object \n",
      " 36  Статус                            19803 non-null  object \n",
      " 37  Количество комнат                 19803 non-null  object \n",
      " 38  Общая площадь                     19803 non-null  object \n",
      " 39  Общая площадь, число              19803 non-null  object \n",
      " 40  Жилая площадь                     12703 non-null  object \n",
      " 41  Этаж                              19803 non-null  object \n",
      " 42  Жилая площадь, число              12703 non-null  object \n",
      " 43  Санузел                           11822 non-null  object \n",
      " 44  Балкон или лоджия                 13329 non-null  object \n",
      " 45  Окна                              8550 non-null   object \n",
      " 46  Высота потолков, м                6748 non-null   float64\n",
      " 47  Ремонт                            7764 non-null   object \n",
      " 48  Способ продажи                    10918 non-null  object \n",
      " 49  Мебель                            3613 non-null   object \n",
      " 50  Вид сделки                        7890 non-null   object \n",
      " 51  Техника                           1796 non-null   object \n",
      " 52  Тип дома                          17080 non-null  object \n",
      " 53  Этажей в доме                     19803 non-null  int64  \n",
      " 54  Год постройки                     5971 non-null   float64\n",
      " 55  Пассажирский лифт                 7886 non-null   object \n",
      " 56  Парковка                          8759 non-null   object \n",
      " 57  Двор                              8111 non-null   object \n",
      " 58  Грузовой лифт                     6595 non-null   object \n",
      " 59  В доме                            2064 non-null   object \n",
      " 60  Тёплый пол                        567 non-null    object \n",
      " 61  Дополнительно                     1458 non-null   object \n",
      " 62  Отделка                           11114 non-null  object \n",
      " 63  Название новостройки              11987 non-null  object \n",
      " 64  Корпус, строение                  9924 non-null   object \n",
      " 65  Тип участия                       11956 non-null  object \n",
      " 66  Срок сдачи                        9964 non-null   object \n",
      " 67  Площадь кухни                     15943 non-null  object \n",
      " 68  Площадь кухни, число              15943 non-null  object \n",
      " 69  Тип комнат                        9084 non-null   object \n",
      " 70  Запланирован снос                 8 non-null      object \n",
      "dtypes: float64(7), int64(4), object(60)\n",
      "memory usage: 10.7+ MB\n"
     ]
    }
   ],
   "source": [
    "df.info()"
   ]
  },
  {
   "cell_type": "code",
   "execution_count": 8,
   "metadata": {},
   "outputs": [
    {
     "data": {
      "text/plain": [
       "Ссылка сбора                0\n",
       "Продавец                    0\n",
       "Контактное лицо          6593\n",
       "Тип продавца                0\n",
       "Пол продавца                0\n",
       "                        ...  \n",
       "Срок сдачи               9839\n",
       "Площадь кухни            3860\n",
       "Площадь кухни, число     3860\n",
       "Тип комнат              10719\n",
       "Запланирован снос       19795\n",
       "Length: 71, dtype: int64"
      ]
     },
     "execution_count": 8,
     "metadata": {},
     "output_type": "execute_result"
    }
   ],
   "source": [
    "df.isnull().sum()"
   ]
  }
 ],
 "metadata": {
  "kernelspec": {
   "display_name": "base",
   "language": "python",
   "name": "python3"
  },
  "language_info": {
   "codemirror_mode": {
    "name": "ipython",
    "version": 3
   },
   "file_extension": ".py",
   "mimetype": "text/x-python",
   "name": "python",
   "nbconvert_exporter": "python",
   "pygments_lexer": "ipython3",
   "version": "3.11.7"
  }
 },
 "nbformat": 4,
 "nbformat_minor": 2
}
