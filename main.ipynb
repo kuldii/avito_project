{
 "cells": [
  {
   "cell_type": "markdown",
   "metadata": {},
   "source": [
    "# AVITO PROJECT\n",
    "\n",
    "## Team Member\n",
    "\n",
    "* Sandikha Rahardi - РИМ 130908"
   ]
  },
  {
   "cell_type": "markdown",
   "metadata": {},
   "source": [
    "## Load Data"
   ]
  },
  {
   "cell_type": "markdown",
   "metadata": {},
   "source": [
    "### Import Package"
   ]
  },
  {
   "cell_type": "code",
   "execution_count": 14,
   "metadata": {},
   "outputs": [],
   "source": [
    "import os\n",
    "import pandas as pd\n",
    "import numpy as np\n",
    "import matplotlib.pyplot as plt\n",
    "import seaborn as sns; sns.set()\n",
    "from sklearn.model_selection import train_test_split"
   ]
  },
  {
   "cell_type": "markdown",
   "metadata": {},
   "source": [
    "### Set Dataframe"
   ]
  },
  {
   "cell_type": "code",
   "execution_count": 13,
   "metadata": {},
   "outputs": [],
   "source": [
    "dataset_filename = \"assets/avito_dataset.xlsx\"\n",
    "main_df = pd.read_excel(dataset_filename, sheet_name=\"Sheet1\")"
   ]
  },
  {
   "cell_type": "markdown",
   "metadata": {},
   "source": [
    "## Data Cleaning"
   ]
  },
  {
   "cell_type": "markdown",
   "metadata": {},
   "source": [
    "### Important Column"
   ]
  },
  {
   "cell_type": "code",
   "execution_count": 27,
   "metadata": {},
   "outputs": [
    {
     "name": "stdout",
     "output_type": "stream",
     "text": [
      "71\n",
      "38\n"
     ]
    }
   ],
   "source": [
    "# Define important column to predict the price\n",
    "important_columns = [\n",
    "    'Цена', 'Метро', 'Метро2', 'Метро. Время', \n",
    "    'Район', 'Сегодня просмотров', 'Всего просмотров', \n",
    "    'Продавец. Компания', 'Статус', 'Количество комнат',\n",
    "    'Общая площадь, число', 'Этаж', 'Жилая площадь, число',\n",
    "    'Санузел', 'Балкон или лоджия', 'Окна',\n",
    "    'Высота потолков, м', 'Ремонт', 'Способ продажи', 'Мебель',\n",
    "    'Вид сделки', 'Техника', 'Тип дома', 'Этажей в доме', 'Год постройки',\n",
    "    'Пассажирский лифт', 'Парковка', 'Двор', 'Грузовой лифт', 'В доме',\n",
    "    'Тёплый пол', 'Дополнительно', 'Отделка', 'Название новостройки',\n",
    "    'Корпус, строение', 'Тип участия', 'Площадь кухни, число', 'Тип комнат'\n",
    "]\n",
    "main_df = main_df[important_columns]\n",
    "print(main_df.columns.__len__())\n",
    "print(important_columns.__len__())"
   ]
  },
  {
   "cell_type": "code",
   "execution_count": 15,
   "metadata": {},
   "outputs": [],
   "source": [
    "# Split the data into training (80%), testing (15%), and validation (5%)\n",
    "train_df, temp_df = train_test_split(main_df, test_size=0.2, random_state=42)\n",
    "test_df, val_df = train_test_split(temp_df, test_size=0.25, random_state=42)"
   ]
  },
  {
   "cell_type": "code",
   "execution_count": 17,
   "metadata": {},
   "outputs": [
    {
     "name": "stdout",
     "output_type": "stream",
     "text": [
      "(15842, 71)\n",
      "(2970, 71)\n",
      "(991, 71)\n"
     ]
    }
   ],
   "source": [
    "print(train_df.shape)\n",
    "print(test_df.shape)\n",
    "print(val_df.shape)"
   ]
  },
  {
   "cell_type": "code",
   "execution_count": 18,
   "metadata": {},
   "outputs": [
    {
     "data": {
      "text/html": [
       "<div>\n",
       "<style scoped>\n",
       "    .dataframe tbody tr th:only-of-type {\n",
       "        vertical-align: middle;\n",
       "    }\n",
       "\n",
       "    .dataframe tbody tr th {\n",
       "        vertical-align: top;\n",
       "    }\n",
       "\n",
       "    .dataframe thead th {\n",
       "        text-align: right;\n",
       "    }\n",
       "</style>\n",
       "<table border=\"1\" class=\"dataframe\">\n",
       "  <thead>\n",
       "    <tr style=\"text-align: right;\">\n",
       "      <th></th>\n",
       "      <th>Цена</th>\n",
       "      <th>Номер объявления</th>\n",
       "      <th>Широта</th>\n",
       "      <th>Долгота</th>\n",
       "      <th>Сегодня просмотров</th>\n",
       "      <th>Всего просмотров</th>\n",
       "      <th>Продавец. Рейтинг</th>\n",
       "      <th>Продавец. Кол-во отзывов</th>\n",
       "      <th>Высота потолков, м</th>\n",
       "      <th>Этажей в доме</th>\n",
       "      <th>Год постройки</th>\n",
       "    </tr>\n",
       "  </thead>\n",
       "  <tbody>\n",
       "    <tr>\n",
       "      <th>count</th>\n",
       "      <td>1.584200e+04</td>\n",
       "      <td>1.584200e+04</td>\n",
       "      <td>15842.000000</td>\n",
       "      <td>15842.000000</td>\n",
       "      <td>10491.00000</td>\n",
       "      <td>15612.000000</td>\n",
       "      <td>2881.000000</td>\n",
       "      <td>15842.000000</td>\n",
       "      <td>5371.000000</td>\n",
       "      <td>15842.000000</td>\n",
       "      <td>4793.000000</td>\n",
       "    </tr>\n",
       "    <tr>\n",
       "      <th>mean</th>\n",
       "      <td>7.463564e+06</td>\n",
       "      <td>3.294203e+09</td>\n",
       "      <td>56.815008</td>\n",
       "      <td>60.588962</td>\n",
       "      <td>16.32647</td>\n",
       "      <td>612.256021</td>\n",
       "      <td>3.099271</td>\n",
       "      <td>1.323697</td>\n",
       "      <td>12.909812</td>\n",
       "      <td>17.834996</td>\n",
       "      <td>1991.504903</td>\n",
       "    </tr>\n",
       "    <tr>\n",
       "      <th>std</th>\n",
       "      <td>3.722423e+07</td>\n",
       "      <td>3.665092e+08</td>\n",
       "      <td>0.041970</td>\n",
       "      <td>0.067791</td>\n",
       "      <td>62.62906</td>\n",
       "      <td>1985.973966</td>\n",
       "      <td>2.310915</td>\n",
       "      <td>13.801025</td>\n",
       "      <td>148.988524</td>\n",
       "      <td>8.621328</td>\n",
       "      <td>114.629071</td>\n",
       "    </tr>\n",
       "    <tr>\n",
       "      <th>min</th>\n",
       "      <td>3.700000e+05</td>\n",
       "      <td>2.773699e+08</td>\n",
       "      <td>56.638994</td>\n",
       "      <td>60.171073</td>\n",
       "      <td>1.00000</td>\n",
       "      <td>1.000000</td>\n",
       "      <td>0.000000</td>\n",
       "      <td>0.000000</td>\n",
       "      <td>0.000000</td>\n",
       "      <td>1.000000</td>\n",
       "      <td>11.000000</td>\n",
       "    </tr>\n",
       "    <tr>\n",
       "      <th>25%</th>\n",
       "      <td>4.600000e+06</td>\n",
       "      <td>3.083084e+09</td>\n",
       "      <td>56.780270</td>\n",
       "      <td>60.528880</td>\n",
       "      <td>2.00000</td>\n",
       "      <td>29.000000</td>\n",
       "      <td>0.000000</td>\n",
       "      <td>0.000000</td>\n",
       "      <td>2.600000</td>\n",
       "      <td>9.000000</td>\n",
       "      <td>1978.000000</td>\n",
       "    </tr>\n",
       "    <tr>\n",
       "      <th>50%</th>\n",
       "      <td>6.105000e+06</td>\n",
       "      <td>3.417527e+09</td>\n",
       "      <td>56.801030</td>\n",
       "      <td>60.590940</td>\n",
       "      <td>5.00000</td>\n",
       "      <td>121.000000</td>\n",
       "      <td>4.800000</td>\n",
       "      <td>0.000000</td>\n",
       "      <td>2.700000</td>\n",
       "      <td>18.000000</td>\n",
       "      <td>2008.000000</td>\n",
       "    </tr>\n",
       "    <tr>\n",
       "      <th>75%</th>\n",
       "      <td>8.300000e+06</td>\n",
       "      <td>3.549979e+09</td>\n",
       "      <td>56.841542</td>\n",
       "      <td>60.635019</td>\n",
       "      <td>12.00000</td>\n",
       "      <td>543.000000</td>\n",
       "      <td>5.000000</td>\n",
       "      <td>0.000000</td>\n",
       "      <td>2.700000</td>\n",
       "      <td>25.000000</td>\n",
       "      <td>2018.000000</td>\n",
       "    </tr>\n",
       "    <tr>\n",
       "      <th>max</th>\n",
       "      <td>4.650000e+09</td>\n",
       "      <td>4.002577e+09</td>\n",
       "      <td>57.002206</td>\n",
       "      <td>61.040045</td>\n",
       "      <td>3893.00000</td>\n",
       "      <td>90732.000000</td>\n",
       "      <td>5.000000</td>\n",
       "      <td>1315.000000</td>\n",
       "      <td>3000.000000</td>\n",
       "      <td>52.000000</td>\n",
       "      <td>2026.000000</td>\n",
       "    </tr>\n",
       "  </tbody>\n",
       "</table>\n",
       "</div>"
      ],
      "text/plain": [
       "               Цена  Номер объявления        Широта       Долгота  \\\n",
       "count  1.584200e+04      1.584200e+04  15842.000000  15842.000000   \n",
       "mean   7.463564e+06      3.294203e+09     56.815008     60.588962   \n",
       "std    3.722423e+07      3.665092e+08      0.041970      0.067791   \n",
       "min    3.700000e+05      2.773699e+08     56.638994     60.171073   \n",
       "25%    4.600000e+06      3.083084e+09     56.780270     60.528880   \n",
       "50%    6.105000e+06      3.417527e+09     56.801030     60.590940   \n",
       "75%    8.300000e+06      3.549979e+09     56.841542     60.635019   \n",
       "max    4.650000e+09      4.002577e+09     57.002206     61.040045   \n",
       "\n",
       "       Сегодня просмотров  Всего просмотров  Продавец. Рейтинг  \\\n",
       "count         10491.00000      15612.000000        2881.000000   \n",
       "mean             16.32647        612.256021           3.099271   \n",
       "std              62.62906       1985.973966           2.310915   \n",
       "min               1.00000          1.000000           0.000000   \n",
       "25%               2.00000         29.000000           0.000000   \n",
       "50%               5.00000        121.000000           4.800000   \n",
       "75%              12.00000        543.000000           5.000000   \n",
       "max            3893.00000      90732.000000           5.000000   \n",
       "\n",
       "       Продавец. Кол-во отзывов  Высота потолков, м  Этажей в доме  \\\n",
       "count              15842.000000         5371.000000   15842.000000   \n",
       "mean                   1.323697           12.909812      17.834996   \n",
       "std                   13.801025          148.988524       8.621328   \n",
       "min                    0.000000            0.000000       1.000000   \n",
       "25%                    0.000000            2.600000       9.000000   \n",
       "50%                    0.000000            2.700000      18.000000   \n",
       "75%                    0.000000            2.700000      25.000000   \n",
       "max                 1315.000000         3000.000000      52.000000   \n",
       "\n",
       "       Год постройки  \n",
       "count    4793.000000  \n",
       "mean     1991.504903  \n",
       "std       114.629071  \n",
       "min        11.000000  \n",
       "25%      1978.000000  \n",
       "50%      2008.000000  \n",
       "75%      2018.000000  \n",
       "max      2026.000000  "
      ]
     },
     "execution_count": 18,
     "metadata": {},
     "output_type": "execute_result"
    }
   ],
   "source": [
    "train_df.describe()"
   ]
  },
  {
   "cell_type": "code",
   "execution_count": 19,
   "metadata": {},
   "outputs": [
    {
     "data": {
      "text/html": [
       "<div>\n",
       "<style scoped>\n",
       "    .dataframe tbody tr th:only-of-type {\n",
       "        vertical-align: middle;\n",
       "    }\n",
       "\n",
       "    .dataframe tbody tr th {\n",
       "        vertical-align: top;\n",
       "    }\n",
       "\n",
       "    .dataframe thead th {\n",
       "        text-align: right;\n",
       "    }\n",
       "</style>\n",
       "<table border=\"1\" class=\"dataframe\">\n",
       "  <thead>\n",
       "    <tr style=\"text-align: right;\">\n",
       "      <th></th>\n",
       "      <th>Ссылка сбора</th>\n",
       "      <th>Продавец</th>\n",
       "      <th>Контактное лицо</th>\n",
       "      <th>Тип продавца</th>\n",
       "      <th>Пол продавца</th>\n",
       "      <th>Заголовок</th>\n",
       "      <th>Описание</th>\n",
       "      <th>Цена</th>\n",
       "      <th>Регион</th>\n",
       "      <th>Город</th>\n",
       "      <th>...</th>\n",
       "      <th>Дополнительно</th>\n",
       "      <th>Отделка</th>\n",
       "      <th>Название новостройки</th>\n",
       "      <th>Корпус, строение</th>\n",
       "      <th>Тип участия</th>\n",
       "      <th>Срок сдачи</th>\n",
       "      <th>Площадь кухни</th>\n",
       "      <th>Площадь кухни, число</th>\n",
       "      <th>Тип комнат</th>\n",
       "      <th>Запланирован снос</th>\n",
       "    </tr>\n",
       "  </thead>\n",
       "  <tbody>\n",
       "    <tr>\n",
       "      <th>17296</th>\n",
       "      <td>https://www.avito.ru/ekaterinburg/kvartiry/pro...</td>\n",
       "      <td>Девелопмент-Юг Екатеринбург</td>\n",
       "      <td>Отдел продаж</td>\n",
       "      <td>Застройщик</td>\n",
       "      <td>Не определено</td>\n",
       "      <td>1-к. квартира, 40,7 м2, 7/25 эт.</td>\n",
       "      <td>Пpoeкт А+ пpeдставляет собой зaвеpшенный квaрт...</td>\n",
       "      <td>6064300</td>\n",
       "      <td>Свердловская область</td>\n",
       "      <td>Екатеринбург</td>\n",
       "      <td>...</td>\n",
       "      <td>NaN</td>\n",
       "      <td>Чистовая</td>\n",
       "      <td>ЖК «‎А+»</td>\n",
       "      <td>NaN</td>\n",
       "      <td>ДДУ по ФЗ 214</td>\n",
       "      <td>NaN</td>\n",
       "      <td>13 м2</td>\n",
       "      <td>13</td>\n",
       "      <td>NaN</td>\n",
       "      <td>NaN</td>\n",
       "    </tr>\n",
       "  </tbody>\n",
       "</table>\n",
       "<p>1 rows × 71 columns</p>\n",
       "</div>"
      ],
      "text/plain": [
       "                                            Ссылка сбора  \\\n",
       "17296  https://www.avito.ru/ekaterinburg/kvartiry/pro...   \n",
       "\n",
       "                          Продавец Контактное лицо Тип продавца  \\\n",
       "17296  Девелопмент-Юг Екатеринбург    Отдел продаж   Застройщик   \n",
       "\n",
       "        Пол продавца                         Заголовок  \\\n",
       "17296  Не определено  1-к. квартира, 40,7 м2, 7/25 эт.   \n",
       "\n",
       "                                                Описание     Цена  \\\n",
       "17296  Пpoeкт А+ пpeдставляет собой зaвеpшенный квaрт...  6064300   \n",
       "\n",
       "                     Регион         Город  ... Дополнительно   Отделка  \\\n",
       "17296  Свердловская область  Екатеринбург  ...           NaN  Чистовая   \n",
       "\n",
       "      Название новостройки Корпус, строение    Тип участия Срок сдачи  \\\n",
       "17296             ЖК «‎А+»              NaN  ДДУ по ФЗ 214        NaN   \n",
       "\n",
       "      Площадь кухни Площадь кухни, число Тип комнат  Запланирован снос  \n",
       "17296         13 м2                   13        NaN                NaN  \n",
       "\n",
       "[1 rows x 71 columns]"
      ]
     },
     "execution_count": 19,
     "metadata": {},
     "output_type": "execute_result"
    }
   ],
   "source": [
    "train_df.head(1)"
   ]
  }
 ],
 "metadata": {
  "kernelspec": {
   "display_name": "base",
   "language": "python",
   "name": "python3"
  },
  "language_info": {
   "codemirror_mode": {
    "name": "ipython",
    "version": 3
   },
   "file_extension": ".py",
   "mimetype": "text/x-python",
   "name": "python",
   "nbconvert_exporter": "python",
   "pygments_lexer": "ipython3",
   "version": "3.11.7"
  }
 },
 "nbformat": 4,
 "nbformat_minor": 2
}
