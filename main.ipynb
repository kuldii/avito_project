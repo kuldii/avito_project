{
 "cells": [
  {
   "cell_type": "markdown",
   "metadata": {},
   "source": [
    "# AVITO PROJECT\n",
    "\n",
    "## Team Member\n",
    "\n",
    "* Sandikha Rahardi - РИМ 130908"
   ]
  },
  {
   "cell_type": "markdown",
   "metadata": {},
   "source": [
    "## Load Data"
   ]
  },
  {
   "cell_type": "markdown",
   "metadata": {},
   "source": [
    "### Import Package"
   ]
  },
  {
   "cell_type": "code",
   "execution_count": 151,
   "metadata": {},
   "outputs": [],
   "source": [
    "import os\n",
    "import pandas as pd\n",
    "import numpy as np\n",
    "import matplotlib.pyplot as plt\n",
    "import seaborn as sns; sns.set()\n",
    "from sklearn.model_selection import train_test_split"
   ]
  },
  {
   "cell_type": "markdown",
   "metadata": {},
   "source": [
    "### Set Dataframe"
   ]
  },
  {
   "cell_type": "code",
   "execution_count": 152,
   "metadata": {},
   "outputs": [],
   "source": [
    "dataset_filename = \"assets/avito_dataset.xlsx\"\n",
    "main_df = pd.read_excel(dataset_filename, sheet_name=\"Sheet1\")"
   ]
  },
  {
   "cell_type": "markdown",
   "metadata": {},
   "source": [
    "## Data Cleaning"
   ]
  },
  {
   "cell_type": "markdown",
   "metadata": {},
   "source": [
    "### Important Column"
   ]
  },
  {
   "cell_type": "code",
   "execution_count": 153,
   "metadata": {},
   "outputs": [
    {
     "name": "stdout",
     "output_type": "stream",
     "text": [
      "Total original column :  71\n",
      "Total important column :  38\n"
     ]
    }
   ],
   "source": [
    "# Define important column to predict the price\n",
    "important_columns = [\n",
    "    'Цена', 'Метро', 'Метро2', 'Метро. Время', \n",
    "    'Район', 'Сегодня просмотров', 'Всего просмотров', \n",
    "    'Продавец. Компания', 'Статус', 'Количество комнат',\n",
    "    'Общая площадь, число', 'Этаж', 'Жилая площадь, число',\n",
    "    'Санузел', 'Балкон или лоджия', 'Окна',\n",
    "    'Высота потолков, м', 'Ремонт', 'Способ продажи', 'Мебель',\n",
    "    'Вид сделки', 'Техника', 'Тип дома', 'Этажей в доме', 'Год постройки',\n",
    "    'Пассажирский лифт', 'Парковка', 'Двор', 'Грузовой лифт', 'В доме',\n",
    "    'Тёплый пол', 'Дополнительно', 'Отделка', 'Название новостройки',\n",
    "    'Корпус, строение', 'Тип участия', 'Площадь кухни, число', 'Тип комнат'\n",
    "]\n",
    "print(\"Total original column : \" , main_df.columns.__len__())\n",
    "print(\"Total important column : \" , important_columns.__len__())\n",
    "main_df = main_df[important_columns]"
   ]
  },
  {
   "cell_type": "markdown",
   "metadata": {},
   "source": [
    "### Clean the dataset"
   ]
  },
  {
   "cell_type": "markdown",
   "metadata": {},
   "source": [
    "#### Clean about Metro"
   ]
  },
  {
   "cell_type": "code",
   "execution_count": 154,
   "metadata": {},
   "outputs": [],
   "source": [
    "main_df['Метро'].dropna(inplace=True)\n",
    "\n",
    "def preprocess_metro_time(row):\n",
    "    if(type(row) == str):\n",
    "        row = row.replace(\"мин.\",\"\").strip()\n",
    "        if(row.__contains__(\"от\")):\n",
    "            row = float(row.replace(\"от\",\"\").strip())\n",
    "        elif(row.__contains__(\"до\")):\n",
    "            row = float(row.replace(\"до\",\"\").strip())\n",
    "        elif(row.__contains__(\"–\")):\n",
    "            row = (int(row.split(\"–\")[0]) + int(row.split(\"–\")[1])) / 2\n",
    "    return row\n",
    "\n",
    "main_df['Метро. Время'] = main_df['Метро. Время'].apply(preprocess_metro_time)\n",
    "mean_metro_time = round(pd.to_numeric(main_df['Метро. Время']).mean(), 1)\n",
    "main_df['Метро. Время'].fillna(mean_metro_time, inplace=True)\n",
    "\n",
    "main_df['Метро2'] = main_df['Метро2'].apply(lambda x: \"Нет\" if pd.isna(x) else \"Есть\")"
   ]
  },
  {
   "cell_type": "markdown",
   "metadata": {},
   "source": [
    "### Split Dataset"
   ]
  },
  {
   "cell_type": "code",
   "execution_count": 87,
   "metadata": {},
   "outputs": [],
   "source": [
    "# Split the data into training (80%), testing (15%), and validation (5%)\n",
    "train_df, temp_df = train_test_split(main_df, test_size=0.2, random_state=42)\n",
    "test_df, val_df = train_test_split(temp_df, test_size=0.25, random_state=42)"
   ]
  },
  {
   "cell_type": "code",
   "execution_count": 88,
   "metadata": {},
   "outputs": [
    {
     "name": "stdout",
     "output_type": "stream",
     "text": [
      "(15842, 38)\n",
      "(2970, 38)\n",
      "(991, 38)\n"
     ]
    }
   ],
   "source": [
    "print(train_df.shape)\n",
    "print(test_df.shape)\n",
    "print(val_df.shape)"
   ]
  },
  {
   "cell_type": "markdown",
   "metadata": {},
   "source": [
    "### Devided into Categorical and Numerical dataset"
   ]
  },
  {
   "cell_type": "code",
   "execution_count": 89,
   "metadata": {},
   "outputs": [],
   "source": [
    "numerical_columns = ['Цена', 'Метро. Время', 'Сегодня просмотров', 'Всего просмотров', 'Количество комнат', 'Общая площадь, число', 'Этаж', 'Жилая площадь, число', 'Высота потолков, м', 'Этажей в доме', 'Год постройки', 'Пассажирский лифт', 'Грузовой лифт', 'Площадь кухни, число']\n",
    "categorical_columns = ['Метро', 'Метро2', 'Район', 'Продавец. Компания', 'Статус', 'Санузел', 'Балкон или лоджия', 'Окна', 'Ремонт', 'Способ продажи', 'Мебель', 'Вид сделки', 'Техника', 'Тип дома', 'Парковка', 'Двор', 'В доме', 'Тёплый пол', 'Дополнительно', 'Отделка', 'Название новостройки', 'Корпус, строение', 'Тип участия', 'Тип комнат']\n",
    "\n",
    "train_num_df = train_df[numerical_columns]\n",
    "train_cat_df = train_df[categorical_columns]\n",
    "test_num_df = test_df[numerical_columns]\n",
    "test_cat_df = test_df[categorical_columns]\n",
    "val_num_df = val_df[numerical_columns]\n",
    "val_cat_df = val_df[categorical_columns]"
   ]
  }
 ],
 "metadata": {
  "kernelspec": {
   "display_name": "base",
   "language": "python",
   "name": "python3"
  },
  "language_info": {
   "codemirror_mode": {
    "name": "ipython",
    "version": 3
   },
   "file_extension": ".py",
   "mimetype": "text/x-python",
   "name": "python",
   "nbconvert_exporter": "python",
   "pygments_lexer": "ipython3",
   "version": "3.11.7"
  }
 },
 "nbformat": 4,
 "nbformat_minor": 2
}
