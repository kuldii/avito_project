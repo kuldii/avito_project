{
 "cells": [
  {
   "cell_type": "markdown",
   "metadata": {},
   "source": [
    "# AVITO PROJECT\n",
    "\n",
    "## Team Member\n",
    "\n",
    "* Sandikha Rahardi - РИМ 130908"
   ]
  },
  {
   "cell_type": "markdown",
   "metadata": {},
   "source": [
    "## Load Data"
   ]
  },
  {
   "cell_type": "markdown",
   "metadata": {},
   "source": [
    "### Import Package"
   ]
  },
  {
   "cell_type": "code",
   "execution_count": 113,
   "metadata": {},
   "outputs": [],
   "source": [
    "import os\n",
    "import pandas as pd\n",
    "import numpy as np\n",
    "import matplotlib.pyplot as plt\n",
    "import seaborn as sns; sns.set()\n",
    "from sklearn.model_selection import train_test_split\n",
    "from sklearn.tree import DecisionTreeClassifier, plot_tree"
   ]
  },
  {
   "cell_type": "markdown",
   "metadata": {},
   "source": [
    "### Set Dataframe"
   ]
  },
  {
   "cell_type": "code",
   "execution_count": 114,
   "metadata": {},
   "outputs": [],
   "source": [
    "dataset_filename = \"assets/avito_dataset.xlsx\"\n",
    "main_df = pd.read_excel(dataset_filename, sheet_name=\"Sheet1\")"
   ]
  },
  {
   "cell_type": "markdown",
   "metadata": {},
   "source": [
    "## Data Cleaning"
   ]
  },
  {
   "cell_type": "markdown",
   "metadata": {},
   "source": [
    "### Important Column"
   ]
  },
  {
   "cell_type": "code",
   "execution_count": 115,
   "metadata": {},
   "outputs": [
    {
     "name": "stdout",
     "output_type": "stream",
     "text": [
      "Total original column :  71\n",
      "Total important column :  17\n"
     ]
    }
   ],
   "source": [
    "# Define important column to predict the price\n",
    "important_columns = [\n",
    "    'Цена', 'Метро', 'Метро2', 'Метро. Время', \n",
    "    'Район', 'Продавец. Компания', 'Статус', 'Количество комнат',\n",
    "    'Общая площадь, число', 'Этаж', 'Санузел', \n",
    "    'Балкон или лоджия', 'Окна', 'Ремонт', \n",
    "    'Тип дома', 'Этажей в доме', 'Площадь кухни, число'\n",
    "]\n",
    "print(\"Total original column : \" , main_df.columns.__len__())\n",
    "print(\"Total important column : \" , important_columns.__len__())\n",
    "main_df = main_df[important_columns]"
   ]
  },
  {
   "cell_type": "code",
   "execution_count": 116,
   "metadata": {},
   "outputs": [
    {
     "name": "stdout",
     "output_type": "stream",
     "text": [
      "(19803, 17)\n"
     ]
    },
    {
     "data": {
      "text/plain": [
       "Цена                     0.000000\n",
       "Метро                    0.489825\n",
       "Метро2                  47.856385\n",
       "Метро. Время            47.856385\n",
       "Район                   52.310256\n",
       "Продавец. Компания       0.000000\n",
       "Статус                   0.000000\n",
       "Количество комнат        0.000000\n",
       "Общая площадь, число     0.000000\n",
       "Этаж                     0.000000\n",
       "Санузел                 40.301974\n",
       "Балкон или лоджия       32.692016\n",
       "Окна                    56.824724\n",
       "Ремонт                  60.793819\n",
       "Тип дома                13.750442\n",
       "Этажей в доме            0.000000\n",
       "Площадь кухни, число    19.491996\n",
       "dtype: float64"
      ]
     },
     "execution_count": 116,
     "metadata": {},
     "output_type": "execute_result"
    }
   ],
   "source": [
    "print(main_df.shape)\n",
    "main_df.isnull().sum() / main_df.shape[0] * 100"
   ]
  },
  {
   "cell_type": "markdown",
   "metadata": {},
   "source": [
    "### Clean the dataset"
   ]
  },
  {
   "cell_type": "markdown",
   "metadata": {},
   "source": [
    "#### Remove duplicated dataset"
   ]
  },
  {
   "cell_type": "code",
   "execution_count": 117,
   "metadata": {},
   "outputs": [
    {
     "name": "stdout",
     "output_type": "stream",
     "text": [
      "Duplicated data :  276\n",
      "Duplicated data (now) :  0\n"
     ]
    }
   ],
   "source": [
    "print(\"Duplicated data : \", main_df.duplicated().sum())\n",
    "main_df = main_df.drop_duplicates().reset_index(drop=True)\n",
    "print(\"Duplicated data (now) : \", main_df.duplicated().sum())"
   ]
  },
  {
   "cell_type": "markdown",
   "metadata": {},
   "source": [
    "#### Clean about 'Метро'"
   ]
  },
  {
   "cell_type": "code",
   "execution_count": 118,
   "metadata": {},
   "outputs": [],
   "source": [
    "main_df.dropna(subset=['Метро'], inplace=True)\n",
    "\n",
    "def preprocess_metro_time(row):\n",
    "    if(type(row) == str):\n",
    "        row = row.replace(\"мин.\",\"\").strip()\n",
    "        if(row.__contains__(\"от\")):\n",
    "            row = float(row.replace(\"от\",\"\").strip())\n",
    "        elif(row.__contains__(\"до\")):\n",
    "            row = float(row.replace(\"до\",\"\").strip())\n",
    "        elif(row.__contains__(\"–\")):\n",
    "            row = (int(row.split(\"–\")[0]) + int(row.split(\"–\")[1])) / 2\n",
    "    return row\n",
    "\n",
    "main_df['Метро. Время'] = main_df['Метро. Время'].apply(preprocess_metro_time)\n",
    "mean_metro_time = round(pd.to_numeric(main_df['Метро. Время']).mean(), 1)\n",
    "main_df['Метро. Время'].fillna(mean_metro_time, inplace=True)\n",
    "main_df['Метро2'] = main_df['Метро2'].apply(lambda x: \"Нет\" if pd.isna(x) else \"Есть\")"
   ]
  },
  {
   "cell_type": "markdown",
   "metadata": {},
   "source": [
    "#### Clean about 'Район'"
   ]
  },
  {
   "cell_type": "code",
   "execution_count": 119,
   "metadata": {},
   "outputs": [],
   "source": [
    "main_df['Район'].fillna(\"Другой\", inplace=True)"
   ]
  },
  {
   "cell_type": "markdown",
   "metadata": {},
   "source": [
    "#### Clean about 'Количество комнат'"
   ]
  },
  {
   "cell_type": "code",
   "execution_count": 120,
   "metadata": {},
   "outputs": [
    {
     "data": {
      "text/plain": [
       "Количество комнат\n",
       "2.0    6516\n",
       "1.0    6276\n",
       "3.0    3592\n",
       "0.0    2470\n",
       "4.0     492\n",
       "5.0      67\n",
       "6.0       9\n",
       "7.0       8\n",
       "Name: count, dtype: int64"
      ]
     },
     "execution_count": 120,
     "metadata": {},
     "output_type": "execute_result"
    }
   ],
   "source": [
    "main_df['Количество комнат'] = main_df['Количество комнат'].apply(lambda x: 0 if x == 'Студия' else x)\n",
    "\n",
    "max_room = pd.to_numeric(main_df['Количество комнат'], errors='coerce').max()\n",
    "mean_room = pd.to_numeric(main_df['Количество комнат'], errors='coerce').mean()\n",
    "\n",
    "main_df['Количество комнат'] = main_df['Количество комнат'].apply(lambda x: max_room if x == 'многокомнатные' else x)\n",
    "main_df['Количество комнат'] = main_df['Количество комнат'].apply(lambda x: round(mean_room) if x == 'Своб. планировка' else x)\n",
    "\n",
    "main_df['Количество комнат'].value_counts()"
   ]
  },
  {
   "cell_type": "markdown",
   "metadata": {},
   "source": [
    "> Note: Студия does not have room ( 0 room )"
   ]
  },
  {
   "cell_type": "markdown",
   "metadata": {},
   "source": [
    "#### Clean about 'Общая площадь, число'"
   ]
  },
  {
   "cell_type": "code",
   "execution_count": 121,
   "metadata": {},
   "outputs": [],
   "source": [
    "main_df['Общая площадь, число'] = main_df['Общая площадь, число'].apply(lambda x: float(x.replace(\",\", \".\")) if type(x) == str else int(x))"
   ]
  },
  {
   "cell_type": "markdown",
   "metadata": {},
   "source": [
    "#### Clean about 'Этаж'"
   ]
  },
  {
   "cell_type": "code",
   "execution_count": 122,
   "metadata": {},
   "outputs": [],
   "source": [
    "# Clean dataset 'Этаж' of 'Этажей в доме'\n",
    "main_df['Этаж'] = main_df['Этаж'].apply(lambda x: int(x.split(\"из\")[0].strip()))"
   ]
  },
  {
   "cell_type": "markdown",
   "metadata": {},
   "source": [
    "#### Clean about 'Санузел'"
   ]
  },
  {
   "cell_type": "code",
   "execution_count": 123,
   "metadata": {},
   "outputs": [],
   "source": [
    "main_df['Санузел'].fillna('Другой', inplace=True)"
   ]
  },
  {
   "cell_type": "markdown",
   "metadata": {},
   "source": [
    "#### Clean about 'Балкон или лоджия'"
   ]
  },
  {
   "cell_type": "code",
   "execution_count": 124,
   "metadata": {},
   "outputs": [],
   "source": [
    "main_df['Балкон или лоджия'].fillna('Другой', inplace=True)"
   ]
  },
  {
   "cell_type": "markdown",
   "metadata": {},
   "source": [
    "#### Clean about 'Окна'"
   ]
  },
  {
   "cell_type": "code",
   "execution_count": 125,
   "metadata": {},
   "outputs": [],
   "source": [
    "main_df['Окна'].fillna('Другой', inplace=True)"
   ]
  },
  {
   "cell_type": "markdown",
   "metadata": {},
   "source": [
    "#### Clean about 'Ремонт'"
   ]
  },
  {
   "cell_type": "code",
   "execution_count": 126,
   "metadata": {},
   "outputs": [],
   "source": [
    "main_df['Ремонт'].fillna('Другой', inplace=True)"
   ]
  },
  {
   "cell_type": "markdown",
   "metadata": {},
   "source": [
    "#### Clean about 'Тип дома'"
   ]
  },
  {
   "cell_type": "code",
   "execution_count": 127,
   "metadata": {},
   "outputs": [],
   "source": [
    "main_df['Тип дома'].fillna('Другой', inplace=True)"
   ]
  },
  {
   "cell_type": "markdown",
   "metadata": {},
   "source": [
    "#### Clean about 'Площадь кухни, число'"
   ]
  },
  {
   "cell_type": "code",
   "execution_count": 128,
   "metadata": {},
   "outputs": [
    {
     "name": "stdout",
     "output_type": "stream",
     "text": [
      "Data Null : 3643\n",
      "Data Mode : 6.0\n"
     ]
    },
    {
     "data": {
      "text/plain": [
       "count    15787.000000\n",
       "mean        14.009001\n",
       "std          7.042748\n",
       "min          2.000000\n",
       "25%          8.200000\n",
       "50%         13.900000\n",
       "75%         18.000000\n",
       "max        100.000000\n",
       "Name: Площадь кухни, число, dtype: float64"
      ]
     },
     "execution_count": 128,
     "metadata": {},
     "output_type": "execute_result"
    }
   ],
   "source": [
    "main_df['Площадь кухни, число'] = main_df['Площадь кухни, число'].apply(lambda x: float(x.replace(\",\", \".\")) if type(x) == str else x)\n",
    "print(\"Data Null :\" , main_df['Площадь кухни, число'].isna().sum())\n",
    "print(\"Data Mode :\" , main_df['Площадь кухни, число'].mode()[0])\n",
    "main_df['Площадь кухни, число'].describe()"
   ]
  },
  {
   "cell_type": "code",
   "execution_count": 129,
   "metadata": {},
   "outputs": [],
   "source": [
    "mode_number = round(main_df['Площадь кухни, число'].mode()[0], 1)\n",
    "mean_number = round(main_df['Площадь кухни, число'].mean(), 1)\n",
    "main_df['Площадь кухни, число'].fillna(np.random.randint(mode_number,mean_number+1), inplace=True)"
   ]
  },
  {
   "cell_type": "markdown",
   "metadata": {},
   "source": [
    "### Split Dataset"
   ]
  },
  {
   "cell_type": "code",
   "execution_count": 130,
   "metadata": {},
   "outputs": [
    {
     "name": "stdout",
     "output_type": "stream",
     "text": [
      "(15544, 17)\n",
      "(2914, 17)\n",
      "(972, 17)\n"
     ]
    }
   ],
   "source": [
    "# Split the data into training (80%), testing (15%), and validation (5%)\n",
    "train_df, temp_df = train_test_split(main_df, test_size=0.2, random_state=42)\n",
    "test_df, val_df = train_test_split(temp_df, test_size=0.25, random_state=42)\n",
    "print(train_df.shape)\n",
    "print(test_df.shape)\n",
    "print(val_df.shape)"
   ]
  },
  {
   "cell_type": "markdown",
   "metadata": {},
   "source": [
    "### Divided into Categorical and Numerical dataset"
   ]
  },
  {
   "cell_type": "code",
   "execution_count": 131,
   "metadata": {},
   "outputs": [],
   "source": [
    "label = 'Цена'\n",
    "numerical_columns = ['Метро. Время', 'Количество комнат', 'Общая площадь, число', 'Этаж', 'Этажей в доме', 'Площадь кухни, число']\n",
    "categorical_columns = ['Метро', 'Метро2', 'Район', 'Продавец. Компания', 'Статус', 'Санузел', 'Балкон или лоджия', 'Окна', 'Ремонт', 'Тип дома']\n",
    "\n",
    "train_num_df = train_df[numerical_columns]\n",
    "train_cat_df = train_df[categorical_columns]\n",
    "test_num_df = test_df[numerical_columns]\n",
    "test_cat_df = test_df[categorical_columns]\n",
    "val_num_df = val_df[numerical_columns]\n",
    "val_cat_df = val_df[categorical_columns]"
   ]
  }
 ],
 "metadata": {
  "kernelspec": {
   "display_name": "base",
   "language": "python",
   "name": "python3"
  },
  "language_info": {
   "codemirror_mode": {
    "name": "ipython",
    "version": 3
   },
   "file_extension": ".py",
   "mimetype": "text/x-python",
   "name": "python",
   "nbconvert_exporter": "python",
   "pygments_lexer": "ipython3",
   "version": "3.11.7"
  }
 },
 "nbformat": 4,
 "nbformat_minor": 2
}
