{
 "cells": [
  {
   "cell_type": "markdown",
   "metadata": {},
   "source": [
    "# AVITO PROJECT\n",
    "\n",
    "## Team Member\n",
    "\n",
    "* Sandikha Rahardi - РИМ 130908"
   ]
  },
  {
   "cell_type": "markdown",
   "metadata": {},
   "source": [
    "## Load Data"
   ]
  },
  {
   "cell_type": "markdown",
   "metadata": {},
   "source": [
    "### Import Package"
   ]
  },
  {
   "cell_type": "code",
   "execution_count": 596,
   "metadata": {},
   "outputs": [],
   "source": [
    "import os\n",
    "import pandas as pd\n",
    "import numpy as np\n",
    "import matplotlib.pyplot as plt\n",
    "import seaborn as sns; sns.set()\n",
    "from sklearn.model_selection import train_test_split"
   ]
  },
  {
   "cell_type": "markdown",
   "metadata": {},
   "source": [
    "### Set Dataframe"
   ]
  },
  {
   "cell_type": "code",
   "execution_count": 597,
   "metadata": {},
   "outputs": [],
   "source": [
    "dataset_filename = \"assets/avito_dataset.xlsx\"\n",
    "main_df = pd.read_excel(dataset_filename, sheet_name=\"Sheet1\")"
   ]
  },
  {
   "cell_type": "markdown",
   "metadata": {},
   "source": [
    "## Data Cleaning"
   ]
  },
  {
   "cell_type": "markdown",
   "metadata": {},
   "source": [
    "### Important Column"
   ]
  },
  {
   "cell_type": "code",
   "execution_count": 598,
   "metadata": {},
   "outputs": [
    {
     "name": "stdout",
     "output_type": "stream",
     "text": [
      "Total original column :  71\n",
      "Total important column :  37\n"
     ]
    }
   ],
   "source": [
    "# Define important column to predict the price\n",
    "important_columns = [\n",
    "    'Цена', 'Метро', 'Метро2', 'Метро. Время', \n",
    "    'Район', 'Сегодня просмотров', 'Всего просмотров', \n",
    "    'Продавец. Компания', 'Статус', 'Количество комнат',\n",
    "    'Общая площадь, число', 'Этаж', 'Жилая площадь, число',\n",
    "    'Санузел', 'Балкон или лоджия', 'Окна', 'Ремонт', \n",
    "    'Способ продажи', 'Мебель', 'Вид сделки', 'Техника',\n",
    "    'Тип дома', 'Этажей в доме', 'Год постройки',\n",
    "    'Пассажирский лифт', 'Парковка', 'Двор', 'Грузовой лифт', 'В доме',\n",
    "    'Тёплый пол', 'Дополнительно', 'Отделка', 'Название новостройки',\n",
    "    'Корпус, строение', 'Тип участия', 'Площадь кухни, число', 'Тип комнат'\n",
    "]\n",
    "print(\"Total original column : \" , main_df.columns.__len__())\n",
    "print(\"Total important column : \" , important_columns.__len__())\n",
    "main_df = main_df[important_columns]"
   ]
  },
  {
   "cell_type": "markdown",
   "metadata": {},
   "source": [
    "### Clean the dataset"
   ]
  },
  {
   "cell_type": "markdown",
   "metadata": {},
   "source": [
    "#### Clean about Метро"
   ]
  },
  {
   "cell_type": "code",
   "execution_count": 599,
   "metadata": {},
   "outputs": [],
   "source": [
    "main_df['Метро'].dropna(inplace=True)\n",
    "\n",
    "def preprocess_metro_time(row):\n",
    "    if(type(row) == str):\n",
    "        row = row.replace(\"мин.\",\"\").strip()\n",
    "        if(row.__contains__(\"от\")):\n",
    "            row = float(row.replace(\"от\",\"\").strip())\n",
    "        elif(row.__contains__(\"до\")):\n",
    "            row = float(row.replace(\"до\",\"\").strip())\n",
    "        elif(row.__contains__(\"–\")):\n",
    "            row = (int(row.split(\"–\")[0]) + int(row.split(\"–\")[1])) / 2\n",
    "    return row\n",
    "\n",
    "main_df['Метро. Время'] = main_df['Метро. Время'].apply(preprocess_metro_time)\n",
    "mean_metro_time = round(pd.to_numeric(main_df['Метро. Время']).mean(), 1)\n",
    "main_df['Метро. Время'].fillna(mean_metro_time, inplace=True)\n",
    "\n",
    "main_df['Метро2'] = main_df['Метро2'].apply(lambda x: \"Нет\" if pd.isna(x) else \"Есть\")"
   ]
  },
  {
   "cell_type": "markdown",
   "metadata": {},
   "source": [
    "#### Clean about 'Район'"
   ]
  },
  {
   "cell_type": "code",
   "execution_count": 600,
   "metadata": {},
   "outputs": [],
   "source": [
    "main_df['Район'].fillna(\"Другой\", inplace=True)"
   ]
  },
  {
   "cell_type": "markdown",
   "metadata": {},
   "source": [
    "#### Clean about 'Просмотров'"
   ]
  },
  {
   "cell_type": "code",
   "execution_count": 601,
   "metadata": {},
   "outputs": [],
   "source": [
    "main_df['Сегодня просмотров'].fillna(0, inplace=True)\n",
    "main_df['Всего просмотров'].fillna(0, inplace=True)"
   ]
  },
  {
   "cell_type": "markdown",
   "metadata": {},
   "source": [
    "#### Clean about 'Компания'"
   ]
  },
  {
   "cell_type": "code",
   "execution_count": 602,
   "metadata": {},
   "outputs": [],
   "source": [
    "main_df['Продавец. Компания'].dropna(inplace=True)"
   ]
  },
  {
   "cell_type": "markdown",
   "metadata": {},
   "source": [
    "#### Clean about 'Статус'"
   ]
  },
  {
   "cell_type": "code",
   "execution_count": 603,
   "metadata": {},
   "outputs": [],
   "source": [
    "main_df['Статус'].dropna(inplace=True)"
   ]
  },
  {
   "cell_type": "markdown",
   "metadata": {},
   "source": [
    "#### Clean about 'Количество комнат'"
   ]
  },
  {
   "cell_type": "code",
   "execution_count": 604,
   "metadata": {},
   "outputs": [
    {
     "data": {
      "text/plain": [
       "Количество комнат\n",
       "2.0    6574\n",
       "1.0    6343\n",
       "3.0    3626\n",
       "0.0    2682\n",
       "4.0     494\n",
       "5.0      67\n",
       "6.0       9\n",
       "7.0       8\n",
       "Name: count, dtype: int64"
      ]
     },
     "execution_count": 604,
     "metadata": {},
     "output_type": "execute_result"
    }
   ],
   "source": [
    "main_df['Количество комнат'] = main_df['Количество комнат'].apply(lambda x: 0 if x == 'Студия' else x)\n",
    "\n",
    "max_room = pd.to_numeric(main_df['Количество комнат'], errors='coerce').max()\n",
    "mean_room = pd.to_numeric(main_df['Количество комнат'], errors='coerce').mean()\n",
    "\n",
    "main_df['Количество комнат'] = main_df['Количество комнат'].apply(lambda x: max_room if x == 'многокомнатные' else x)\n",
    "main_df['Количество комнат'] = main_df['Количество комнат'].apply(lambda x: round(mean_room) if x == 'Своб. планировка' else x)\n",
    "\n",
    "main_df['Количество комнат'].value_counts()"
   ]
  },
  {
   "cell_type": "markdown",
   "metadata": {},
   "source": [
    "> Note: Студия does not have room ( 0 room )"
   ]
  },
  {
   "cell_type": "markdown",
   "metadata": {},
   "source": [
    "#### Clean about 'Общая площадь, число'"
   ]
  },
  {
   "cell_type": "code",
   "execution_count": 605,
   "metadata": {},
   "outputs": [],
   "source": [
    "main_df['Общая площадь, число'].dropna(inplace=True)\n",
    "\n",
    "main_df['Общая площадь, число'] = main_df['Общая площадь, число'].apply(lambda x: float(x.replace(\",\", \".\")) if type(x) == str else int(x))"
   ]
  },
  {
   "cell_type": "markdown",
   "metadata": {},
   "source": [
    "#### Clean about 'Этаж'"
   ]
  },
  {
   "cell_type": "code",
   "execution_count": 606,
   "metadata": {},
   "outputs": [],
   "source": [
    "# Clean dataset 'Этаж' of 'Этажей в доме'\n",
    "main_df['Этаж'] = main_df['Этаж'].apply(lambda x: int(x.split(\"из\")[0].strip()))"
   ]
  },
  {
   "cell_type": "markdown",
   "metadata": {},
   "source": [
    "### Clean about 'Жилая площадь, число'"
   ]
  },
  {
   "cell_type": "code",
   "execution_count": 607,
   "metadata": {},
   "outputs": [],
   "source": [
    "main_df['Жилая площадь, число'].fillna(0, inplace=True)"
   ]
  },
  {
   "cell_type": "markdown",
   "metadata": {},
   "source": [
    "#### Clean about 'Санузел'"
   ]
  },
  {
   "cell_type": "code",
   "execution_count": 608,
   "metadata": {},
   "outputs": [],
   "source": [
    "main_df['Санузел'].fillna('Другой', inplace=True)"
   ]
  },
  {
   "cell_type": "markdown",
   "metadata": {},
   "source": [
    "#### Clean about 'Балкон или лоджия'"
   ]
  },
  {
   "cell_type": "code",
   "execution_count": 609,
   "metadata": {},
   "outputs": [],
   "source": [
    "main_df['Балкон или лоджия'].fillna('Другой', inplace=True)"
   ]
  },
  {
   "cell_type": "markdown",
   "metadata": {},
   "source": [
    "#### Clean about 'Окна'"
   ]
  },
  {
   "cell_type": "code",
   "execution_count": 610,
   "metadata": {},
   "outputs": [],
   "source": [
    "main_df['Окна'].fillna('Другой', inplace=True)"
   ]
  },
  {
   "cell_type": "markdown",
   "metadata": {},
   "source": [
    "#### Clean about 'Ремонт'"
   ]
  },
  {
   "cell_type": "code",
   "execution_count": 611,
   "metadata": {},
   "outputs": [],
   "source": [
    "main_df['Ремонт'].fillna('Другой', inplace=True)"
   ]
  },
  {
   "cell_type": "markdown",
   "metadata": {},
   "source": [
    "#### Clean about 'Способ продажи'"
   ]
  },
  {
   "cell_type": "code",
   "execution_count": 612,
   "metadata": {},
   "outputs": [],
   "source": [
    "main_df['Способ продажи'].fillna('Другой', inplace=True)"
   ]
  },
  {
   "cell_type": "markdown",
   "metadata": {},
   "source": [
    "#### Clean about 'Мебель'"
   ]
  },
  {
   "cell_type": "code",
   "execution_count": 613,
   "metadata": {},
   "outputs": [],
   "source": [
    "main_df['Мебель'].fillna('Другой', inplace=True)"
   ]
  },
  {
   "cell_type": "markdown",
   "metadata": {},
   "source": [
    "#### Clean about 'Вид сделки'"
   ]
  },
  {
   "cell_type": "code",
   "execution_count": 614,
   "metadata": {},
   "outputs": [],
   "source": [
    "main_df['Вид сделки'].fillna('Другой', inplace=True)"
   ]
  },
  {
   "cell_type": "markdown",
   "metadata": {},
   "source": [
    "#### Clean about 'Техника'"
   ]
  },
  {
   "cell_type": "code",
   "execution_count": 615,
   "metadata": {},
   "outputs": [],
   "source": [
    "main_df['Техника'].fillna(0, inplace=True)\n",
    "\n",
    "def preprocess_tech(row):\n",
    "    if(type(row) == str):\n",
    "        if(row.__contains__(\",\")):\n",
    "            row = len(row.split(\",\"))\n",
    "        else: \n",
    "            row = 1\n",
    "    return row\n",
    "main_df['Техника'] = main_df['Техника'].apply(preprocess_tech)"
   ]
  },
  {
   "cell_type": "markdown",
   "metadata": {},
   "source": [
    "#### Clean about 'Тип дома'"
   ]
  },
  {
   "cell_type": "code",
   "execution_count": 616,
   "metadata": {},
   "outputs": [],
   "source": [
    "main_df['Тип дома'].fillna('Другой', inplace=True)"
   ]
  },
  {
   "cell_type": "markdown",
   "metadata": {},
   "source": [
    "#### Clean about 'Год постройки'"
   ]
  },
  {
   "cell_type": "code",
   "execution_count": 617,
   "metadata": {},
   "outputs": [
    {
     "name": "stdout",
     "output_type": "stream",
     "text": [
      "Data Null : 13832\n",
      "Data Mode : 0    2023.0\n",
      "Name: Год постройки, dtype: float64\n"
     ]
    }
   ],
   "source": [
    "# Change null value with median\n",
    "print(\"Data Null :\" , main_df['Год постройки'].isna().sum())\n",
    "print(\"Data Mode :\" , main_df['Год постройки'].mode())\n",
    "main_df['Год постройки'].fillna(main_df['Год постройки'].median(), inplace=True)"
   ]
  },
  {
   "cell_type": "markdown",
   "metadata": {},
   "source": [
    "#### Clean about 'Пассажирский лифт'"
   ]
  },
  {
   "cell_type": "code",
   "execution_count": 618,
   "metadata": {},
   "outputs": [
    {
     "name": "stdout",
     "output_type": "stream",
     "text": [
      "Data Null : 11917\n",
      "Data Mode : 0    1.0\n",
      "Name: Пассажирский лифт, dtype: float64\n"
     ]
    }
   ],
   "source": [
    "# Change null value with mode\n",
    "main_df['Пассажирский лифт'] = main_df['Пассажирский лифт'].apply(lambda x: 0 if x == 'Нет' else x)\n",
    "print(\"Data Null :\" , main_df['Пассажирский лифт'].isna().sum())\n",
    "print(\"Data Mode :\" , main_df['Пассажирский лифт'].mode())\n",
    "main_df['Пассажирский лифт'].fillna(main_df['Пассажирский лифт'].mode(), inplace=True)"
   ]
  },
  {
   "cell_type": "markdown",
   "metadata": {},
   "source": [
    "#### Clean about 'Парковка'"
   ]
  },
  {
   "cell_type": "code",
   "execution_count": 619,
   "metadata": {},
   "outputs": [],
   "source": [
    "main_df['Парковка'].fillna(0, inplace=True)\n",
    "\n",
    "def preprocess_parking(row):\n",
    "    if(type(row) == str):\n",
    "        if(row.__contains__(\",\")):\n",
    "            row = len(row.split(\",\"))\n",
    "        else: \n",
    "            row = 1\n",
    "    return row\n",
    "main_df['Парковка'] = main_df['Парковка'].apply(preprocess_parking)"
   ]
  },
  {
   "cell_type": "markdown",
   "metadata": {},
   "source": [
    "### Clean about 'Двор'"
   ]
  },
  {
   "cell_type": "code",
   "execution_count": 620,
   "metadata": {},
   "outputs": [],
   "source": [
    "main_df['Двор'].fillna(0, inplace=True)\n",
    "\n",
    "def preprocess_parking(row):\n",
    "    if(type(row) == str):\n",
    "        if(row.__contains__(\",\")):\n",
    "            row = len(row.split(\",\"))\n",
    "        else: \n",
    "            row = 1\n",
    "    return row\n",
    "main_df['Двор'] = main_df['Двор'].apply(preprocess_parking)"
   ]
  },
  {
   "cell_type": "markdown",
   "metadata": {},
   "source": [
    "### Clean about 'Грузовой лифт'"
   ]
  },
  {
   "cell_type": "code",
   "execution_count": 621,
   "metadata": {},
   "outputs": [
    {
     "name": "stdout",
     "output_type": "stream",
     "text": [
      "Data Null : 13208\n",
      "Data Mode : 0    1.0\n",
      "Name: Грузовой лифт, dtype: float64\n"
     ]
    }
   ],
   "source": [
    "# Change null value with mode\n",
    "main_df['Грузовой лифт'] = main_df['Грузовой лифт'].apply(lambda x: 0 if x == 'Нет' else x)\n",
    "print(\"Data Null :\" , main_df['Грузовой лифт'].isna().sum())\n",
    "print(\"Data Mode :\" , main_df['Грузовой лифт'].mode())\n",
    "main_df['Грузовой лифт'].fillna(main_df['Грузовой лифт'].mode(), inplace=True)"
   ]
  },
  {
   "cell_type": "markdown",
   "metadata": {},
   "source": [
    "### Split Dataset"
   ]
  },
  {
   "cell_type": "code",
   "execution_count": 87,
   "metadata": {},
   "outputs": [],
   "source": [
    "# Split the data into training (80%), testing (15%), and validation (5%)\n",
    "train_df, temp_df = train_test_split(main_df, test_size=0.2, random_state=42)\n",
    "test_df, val_df = train_test_split(temp_df, test_size=0.25, random_state=42)"
   ]
  },
  {
   "cell_type": "code",
   "execution_count": 88,
   "metadata": {},
   "outputs": [
    {
     "name": "stdout",
     "output_type": "stream",
     "text": [
      "(15842, 38)\n",
      "(2970, 38)\n",
      "(991, 38)\n"
     ]
    }
   ],
   "source": [
    "print(train_df.shape)\n",
    "print(test_df.shape)\n",
    "print(val_df.shape)"
   ]
  },
  {
   "cell_type": "markdown",
   "metadata": {},
   "source": [
    "### Devided into Categorical and Numerical dataset"
   ]
  },
  {
   "cell_type": "code",
   "execution_count": 89,
   "metadata": {},
   "outputs": [],
   "source": [
    "numerical_columns = ['Цена', 'Метро. Время', 'Сегодня просмотров', 'Всего просмотров', 'Количество комнат', 'Общая площадь, число', 'Этаж', 'Жилая площадь, число', 'Этажей в доме', 'Год постройки', 'Пассажирский лифт', 'Грузовой лифт', 'Площадь кухни, число', 'Техника']\n",
    "categorical_columns = ['Метро', 'Метро2', 'Район', 'Продавец. Компания', 'Статус', 'Санузел', 'Балкон или лоджия', 'Окна', 'Ремонт', 'Способ продажи', 'Мебель', 'Вид сделки', 'Тип дома', 'Парковка', 'Двор', 'В доме', 'Тёплый пол', 'Дополнительно', 'Отделка', 'Название новостройки', 'Корпус, строение', 'Тип участия', 'Тип комнат']\n",
    "\n",
    "train_num_df = train_df[numerical_columns]\n",
    "train_cat_df = train_df[categorical_columns]\n",
    "test_num_df = test_df[numerical_columns]\n",
    "test_cat_df = test_df[categorical_columns]\n",
    "val_num_df = val_df[numerical_columns]\n",
    "val_cat_df = val_df[categorical_columns]"
   ]
  }
 ],
 "metadata": {
  "kernelspec": {
   "display_name": "base",
   "language": "python",
   "name": "python3"
  },
  "language_info": {
   "codemirror_mode": {
    "name": "ipython",
    "version": 3
   },
   "file_extension": ".py",
   "mimetype": "text/x-python",
   "name": "python",
   "nbconvert_exporter": "python",
   "pygments_lexer": "ipython3",
   "version": "3.11.7"
  }
 },
 "nbformat": 4,
 "nbformat_minor": 2
}
