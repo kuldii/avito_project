{
 "cells": [
  {
   "cell_type": "markdown",
   "metadata": {},
   "source": [
    "# AVITO PROJECT\n",
    "\n",
    "## Team Member\n",
    "\n",
    "* Sandikha Rahardi - РИМ 130908"
   ]
  },
  {
   "cell_type": "markdown",
   "metadata": {},
   "source": [
    "## Load Data"
   ]
  },
  {
   "cell_type": "markdown",
   "metadata": {},
   "source": [
    "### Import Package"
   ]
  },
  {
   "cell_type": "code",
   "execution_count": 16,
   "metadata": {},
   "outputs": [],
   "source": [
    "import os\n",
    "import pandas as pd\n",
    "import numpy as np\n",
    "import matplotlib.pyplot as plt\n",
    "import seaborn as sns; sns.set()\n",
    "from sklearn.model_selection import train_test_split"
   ]
  },
  {
   "cell_type": "markdown",
   "metadata": {},
   "source": [
    "### Set Dataframe"
   ]
  },
  {
   "cell_type": "code",
   "execution_count": 17,
   "metadata": {},
   "outputs": [],
   "source": [
    "dataset_filename = \"assets/avito_dataset.xlsx\"\n",
    "main_df = pd.read_excel(dataset_filename, sheet_name=\"Sheet1\")"
   ]
  },
  {
   "cell_type": "markdown",
   "metadata": {},
   "source": [
    "## Data Cleaning"
   ]
  },
  {
   "cell_type": "markdown",
   "metadata": {},
   "source": [
    "### Important Column"
   ]
  },
  {
   "cell_type": "code",
   "execution_count": 18,
   "metadata": {},
   "outputs": [
    {
     "name": "stdout",
     "output_type": "stream",
     "text": [
      "Total original column :  71\n",
      "Total important column :  34\n"
     ]
    }
   ],
   "source": [
    "# Define important column to predict the price\n",
    "important_columns = [\n",
    "    'Цена', 'Метро', 'Метро2', 'Метро. Время', \n",
    "    'Район', 'Сегодня просмотров', 'Всего просмотров', \n",
    "    'Продавец. Компания', 'Статус', 'Количество комнат',\n",
    "    'Общая площадь, число', 'Этаж', 'Жилая площадь, число',\n",
    "    'Санузел', 'Балкон или лоджия', 'Окна', 'Ремонт', \n",
    "    'Способ продажи', 'Мебель', 'Вид сделки', 'Техника',\n",
    "    'Тип дома', 'Этажей в доме', 'Год постройки',\n",
    "    'Пассажирский лифт', 'Парковка', 'Двор', 'Грузовой лифт', 'В доме',\n",
    "    'Тёплый пол', 'Дополнительно', 'Отделка',\n",
    "    'Площадь кухни, число', 'Тип комнат'\n",
    "]\n",
    "print(\"Total original column : \" , main_df.columns.__len__())\n",
    "print(\"Total important column : \" , important_columns.__len__())\n",
    "main_df = main_df[important_columns]"
   ]
  },
  {
   "cell_type": "code",
   "execution_count": 19,
   "metadata": {},
   "outputs": [
    {
     "name": "stdout",
     "output_type": "stream",
     "text": [
      "(19803, 34)\n"
     ]
    },
    {
     "data": {
      "text/plain": [
       "Цена                     0.000000\n",
       "Метро                    0.489825\n",
       "Метро2                  47.856385\n",
       "Метро. Время            47.856385\n",
       "Район                   52.310256\n",
       "Сегодня просмотров      33.979700\n",
       "Всего просмотров         1.449275\n",
       "Продавец. Компания       0.000000\n",
       "Статус                   0.000000\n",
       "Количество комнат        0.000000\n",
       "Общая площадь, число     0.000000\n",
       "Этаж                     0.000000\n",
       "Жилая площадь, число    35.853154\n",
       "Санузел                 40.301974\n",
       "Балкон или лоджия       32.692016\n",
       "Окна                    56.824724\n",
       "Ремонт                  60.793819\n",
       "Способ продажи          44.866939\n",
       "Мебель                  81.755290\n",
       "Вид сделки              60.157552\n",
       "Техника                 90.930667\n",
       "Тип дома                13.750442\n",
       "Этажей в доме            0.000000\n",
       "Год постройки           69.848003\n",
       "Пассажирский лифт       60.177751\n",
       "Парковка                55.769328\n",
       "Двор                    59.041559\n",
       "Грузовой лифт           66.696965\n",
       "В доме                  89.577337\n",
       "Тёплый пол              97.136797\n",
       "Дополнительно           92.637479\n",
       "Отделка                 43.877190\n",
       "Площадь кухни, число    19.491996\n",
       "Тип комнат              54.128162\n",
       "dtype: float64"
      ]
     },
     "execution_count": 19,
     "metadata": {},
     "output_type": "execute_result"
    }
   ],
   "source": [
    "print(main_df.shape)\n",
    "main_df.isnull().sum() / main_df.shape[0] * 100"
   ]
  },
  {
   "cell_type": "markdown",
   "metadata": {},
   "source": [
    "### Clean the dataset"
   ]
  },
  {
   "cell_type": "markdown",
   "metadata": {},
   "source": [
    "#### Remove duplicated dataset"
   ]
  },
  {
   "cell_type": "code",
   "execution_count": 20,
   "metadata": {},
   "outputs": [
    {
     "name": "stdout",
     "output_type": "stream",
     "text": [
      "Duplicated data :  38\n",
      "Duplicated data (now) :  0\n"
     ]
    }
   ],
   "source": [
    "print(\"Duplicated data : \", main_df.duplicated().sum())\n",
    "main_df = main_df.drop_duplicates().reset_index(drop=True)\n",
    "print(\"Duplicated data (now) : \", main_df.duplicated().sum())"
   ]
  },
  {
   "cell_type": "markdown",
   "metadata": {},
   "source": [
    "#### Clean about 'Метро'"
   ]
  },
  {
   "cell_type": "code",
   "execution_count": 21,
   "metadata": {},
   "outputs": [],
   "source": [
    "main_df.dropna(subset=['Метро'], inplace=True)\n",
    "\n",
    "def preprocess_metro_time(row):\n",
    "    if(type(row) == str):\n",
    "        row = row.replace(\"мин.\",\"\").strip()\n",
    "        if(row.__contains__(\"от\")):\n",
    "            row = float(row.replace(\"от\",\"\").strip())\n",
    "        elif(row.__contains__(\"до\")):\n",
    "            row = float(row.replace(\"до\",\"\").strip())\n",
    "        elif(row.__contains__(\"–\")):\n",
    "            row = (int(row.split(\"–\")[0]) + int(row.split(\"–\")[1])) / 2\n",
    "    return row\n",
    "\n",
    "main_df['Метро. Время'] = main_df['Метро. Время'].apply(preprocess_metro_time)\n",
    "mean_metro_time = round(pd.to_numeric(main_df['Метро. Время']).mean(), 1)\n",
    "main_df['Метро. Время'].fillna(mean_metro_time, inplace=True)\n",
    "main_df['Метро2'] = main_df['Метро2'].apply(lambda x: \"Нет\" if pd.isna(x) else \"Есть\")"
   ]
  },
  {
   "cell_type": "markdown",
   "metadata": {},
   "source": [
    "#### Clean about 'Район'"
   ]
  },
  {
   "cell_type": "code",
   "execution_count": 22,
   "metadata": {},
   "outputs": [],
   "source": [
    "main_df['Район'].fillna(\"Другой\", inplace=True)"
   ]
  },
  {
   "cell_type": "markdown",
   "metadata": {},
   "source": [
    "#### Clean about 'Просмотров'"
   ]
  },
  {
   "cell_type": "code",
   "execution_count": 23,
   "metadata": {},
   "outputs": [],
   "source": [
    "main_df['Сегодня просмотров'].fillna(0, inplace=True)\n",
    "main_df['Всего просмотров'].fillna(0, inplace=True)"
   ]
  },
  {
   "cell_type": "markdown",
   "metadata": {},
   "source": [
    "#### Clean about 'Количество комнат'"
   ]
  },
  {
   "cell_type": "code",
   "execution_count": 24,
   "metadata": {},
   "outputs": [
    {
     "data": {
      "text/plain": [
       "Количество комнат\n",
       "2.0    6552\n",
       "1.0    6328\n",
       "3.0    3610\n",
       "0.0    2601\n",
       "4.0     493\n",
       "5.0      67\n",
       "6.0       9\n",
       "7.0       8\n",
       "Name: count, dtype: int64"
      ]
     },
     "execution_count": 24,
     "metadata": {},
     "output_type": "execute_result"
    }
   ],
   "source": [
    "main_df['Количество комнат'] = main_df['Количество комнат'].apply(lambda x: 0 if x == 'Студия' else x)\n",
    "\n",
    "max_room = pd.to_numeric(main_df['Количество комнат'], errors='coerce').max()\n",
    "mean_room = pd.to_numeric(main_df['Количество комнат'], errors='coerce').mean()\n",
    "\n",
    "main_df['Количество комнат'] = main_df['Количество комнат'].apply(lambda x: max_room if x == 'многокомнатные' else x)\n",
    "main_df['Количество комнат'] = main_df['Количество комнат'].apply(lambda x: round(mean_room) if x == 'Своб. планировка' else x)\n",
    "\n",
    "main_df['Количество комнат'].value_counts()"
   ]
  },
  {
   "cell_type": "markdown",
   "metadata": {},
   "source": [
    "> Note: Студия does not have room ( 0 room )"
   ]
  },
  {
   "cell_type": "markdown",
   "metadata": {},
   "source": [
    "#### Clean about 'Общая площадь, число'"
   ]
  },
  {
   "cell_type": "code",
   "execution_count": 25,
   "metadata": {},
   "outputs": [],
   "source": [
    "main_df['Общая площадь, число'] = main_df['Общая площадь, число'].apply(lambda x: float(x.replace(\",\", \".\")) if type(x) == str else int(x))"
   ]
  },
  {
   "cell_type": "markdown",
   "metadata": {},
   "source": [
    "#### Clean about 'Этаж'"
   ]
  },
  {
   "cell_type": "code",
   "execution_count": 26,
   "metadata": {},
   "outputs": [],
   "source": [
    "# Clean dataset 'Этаж' of 'Этажей в доме'\n",
    "main_df['Этаж'] = main_df['Этаж'].apply(lambda x: int(x.split(\"из\")[0].strip()))"
   ]
  },
  {
   "cell_type": "markdown",
   "metadata": {},
   "source": [
    "#### Clean about 'Жилая площадь, число'"
   ]
  },
  {
   "cell_type": "code",
   "execution_count": 27,
   "metadata": {},
   "outputs": [],
   "source": [
    "main_df['Жилая площадь, число'].fillna(0, inplace=True)"
   ]
  },
  {
   "cell_type": "markdown",
   "metadata": {},
   "source": [
    "#### Clean about 'Санузел'"
   ]
  },
  {
   "cell_type": "code",
   "execution_count": 28,
   "metadata": {},
   "outputs": [],
   "source": [
    "main_df['Санузел'].fillna('Другой', inplace=True)"
   ]
  },
  {
   "cell_type": "markdown",
   "metadata": {},
   "source": [
    "#### Clean about 'Балкон или лоджия'"
   ]
  },
  {
   "cell_type": "code",
   "execution_count": 29,
   "metadata": {},
   "outputs": [],
   "source": [
    "main_df['Балкон или лоджия'].fillna('Другой', inplace=True)"
   ]
  },
  {
   "cell_type": "markdown",
   "metadata": {},
   "source": [
    "#### Clean about 'Окна'"
   ]
  },
  {
   "cell_type": "code",
   "execution_count": 30,
   "metadata": {},
   "outputs": [],
   "source": [
    "main_df['Окна'].fillna('Другой', inplace=True)"
   ]
  },
  {
   "cell_type": "markdown",
   "metadata": {},
   "source": [
    "#### Clean about 'Ремонт'"
   ]
  },
  {
   "cell_type": "code",
   "execution_count": 31,
   "metadata": {},
   "outputs": [],
   "source": [
    "main_df['Ремонт'].fillna('Другой', inplace=True)"
   ]
  },
  {
   "cell_type": "markdown",
   "metadata": {},
   "source": [
    "#### Clean about 'Способ продажи'"
   ]
  },
  {
   "cell_type": "code",
   "execution_count": 32,
   "metadata": {},
   "outputs": [],
   "source": [
    "main_df['Способ продажи'].fillna('Другой', inplace=True)"
   ]
  },
  {
   "cell_type": "markdown",
   "metadata": {},
   "source": [
    "#### Clean about 'Мебель'"
   ]
  },
  {
   "cell_type": "code",
   "execution_count": 33,
   "metadata": {},
   "outputs": [],
   "source": [
    "main_df['Мебель'].fillna('Другой', inplace=True)"
   ]
  },
  {
   "cell_type": "markdown",
   "metadata": {},
   "source": [
    "#### Clean about 'Вид сделки'"
   ]
  },
  {
   "cell_type": "code",
   "execution_count": 34,
   "metadata": {},
   "outputs": [],
   "source": [
    "main_df['Вид сделки'].fillna('Другой', inplace=True)"
   ]
  },
  {
   "cell_type": "markdown",
   "metadata": {},
   "source": [
    "#### Clean about 'Техника'"
   ]
  },
  {
   "cell_type": "code",
   "execution_count": 35,
   "metadata": {},
   "outputs": [],
   "source": [
    "main_df['Техника'].fillna(0, inplace=True)\n",
    "\n",
    "def preprocess_tech(row):\n",
    "    if(type(row) == str):\n",
    "        if(row.__contains__(\",\")):\n",
    "            row = len(row.split(\",\"))\n",
    "        else: \n",
    "            row = 1\n",
    "    return row\n",
    "main_df['Техника'] = main_df['Техника'].apply(preprocess_tech)"
   ]
  },
  {
   "cell_type": "markdown",
   "metadata": {},
   "source": [
    "#### Clean about 'Тип дома'"
   ]
  },
  {
   "cell_type": "code",
   "execution_count": 36,
   "metadata": {},
   "outputs": [],
   "source": [
    "main_df['Тип дома'].fillna('Другой', inplace=True)"
   ]
  },
  {
   "cell_type": "markdown",
   "metadata": {},
   "source": [
    "#### Clean about 'Год постройки'"
   ]
  },
  {
   "cell_type": "code",
   "execution_count": 37,
   "metadata": {},
   "outputs": [
    {
     "name": "stdout",
     "output_type": "stream",
     "text": [
      "Data Null : 13744\n",
      "Data Mode : 2023.0\n"
     ]
    }
   ],
   "source": [
    "# Change null value with median\n",
    "print(\"Data Null :\" , main_df['Год постройки'].isna().sum())\n",
    "print(\"Data Mode :\" , main_df['Год постройки'].mode()[0])\n",
    "main_df['Год постройки'].fillna(main_df['Год постройки'].median(), inplace=True)"
   ]
  },
  {
   "cell_type": "markdown",
   "metadata": {},
   "source": [
    "#### Clean about 'Пассажирский лифт'"
   ]
  },
  {
   "cell_type": "code",
   "execution_count": 38,
   "metadata": {},
   "outputs": [
    {
     "name": "stdout",
     "output_type": "stream",
     "text": [
      "Data Null : 11835\n",
      "Data Mode : 1.0\n"
     ]
    }
   ],
   "source": [
    "# Change null value with mode\n",
    "main_df['Пассажирский лифт'] = main_df['Пассажирский лифт'].apply(lambda x: 0 if x == 'Нет' else x)\n",
    "print(\"Data Null :\" , main_df['Пассажирский лифт'].isna().sum())\n",
    "print(\"Data Mode :\" , main_df['Пассажирский лифт'].mode()[0])\n",
    "main_df['Пассажирский лифт'].fillna(main_df['Пассажирский лифт'].mode()[0], inplace=True)"
   ]
  },
  {
   "cell_type": "markdown",
   "metadata": {},
   "source": [
    "#### Clean about 'Парковка'"
   ]
  },
  {
   "cell_type": "code",
   "execution_count": 39,
   "metadata": {},
   "outputs": [],
   "source": [
    "main_df['Парковка'].fillna(0, inplace=True)\n",
    "\n",
    "def preprocess_parking(row):\n",
    "    if(type(row) == str):\n",
    "        if(row.__contains__(\",\")):\n",
    "            row = len(row.split(\",\"))\n",
    "        else: \n",
    "            row = 1\n",
    "    return row\n",
    "main_df['Парковка'] = main_df['Парковка'].apply(preprocess_parking)"
   ]
  },
  {
   "cell_type": "markdown",
   "metadata": {},
   "source": [
    "#### Clean about 'Двор'"
   ]
  },
  {
   "cell_type": "code",
   "execution_count": 40,
   "metadata": {},
   "outputs": [],
   "source": [
    "main_df['Двор'].fillna(0, inplace=True)\n",
    "\n",
    "def preprocess_yard(row):\n",
    "    if(type(row) == str):\n",
    "        if(row.__contains__(\",\")):\n",
    "            row = len(row.split(\",\"))\n",
    "        else: \n",
    "            row = 1\n",
    "    return row\n",
    "main_df['Двор'] = main_df['Двор'].apply(preprocess_yard)"
   ]
  },
  {
   "cell_type": "markdown",
   "metadata": {},
   "source": [
    "#### Clean about 'Грузовой лифт'"
   ]
  },
  {
   "cell_type": "code",
   "execution_count": 41,
   "metadata": {},
   "outputs": [
    {
     "name": "stdout",
     "output_type": "stream",
     "text": [
      "Data Null : 13123\n",
      "Data Mode : 1.0\n"
     ]
    }
   ],
   "source": [
    "# Change null value with mode\n",
    "main_df['Грузовой лифт'] = main_df['Грузовой лифт'].apply(lambda x: 0 if x == 'Нет' else x)\n",
    "print(\"Data Null :\" , main_df['Грузовой лифт'].isna().sum())\n",
    "print(\"Data Mode :\" , main_df['Грузовой лифт'].mode()[0])\n",
    "main_df['Грузовой лифт'].fillna(main_df['Грузовой лифт'].mode()[0], inplace=True)"
   ]
  },
  {
   "cell_type": "markdown",
   "metadata": {},
   "source": [
    "#### Clean about 'В доме'"
   ]
  },
  {
   "cell_type": "code",
   "execution_count": 42,
   "metadata": {},
   "outputs": [],
   "source": [
    "main_df['В доме'].fillna('Другой', inplace=True)"
   ]
  },
  {
   "cell_type": "markdown",
   "metadata": {},
   "source": [
    "#### Clean about 'Тёплый пол'"
   ]
  },
  {
   "cell_type": "code",
   "execution_count": 43,
   "metadata": {},
   "outputs": [],
   "source": [
    "main_df['Тёплый пол'].fillna('Нет', inplace=True)"
   ]
  },
  {
   "cell_type": "markdown",
   "metadata": {},
   "source": [
    "#### Clean about 'Дополнительно'"
   ]
  },
  {
   "cell_type": "code",
   "execution_count": 44,
   "metadata": {},
   "outputs": [],
   "source": [
    "main_df['Дополнительно'].fillna('Другой', inplace=True)"
   ]
  },
  {
   "cell_type": "markdown",
   "metadata": {},
   "source": [
    "#### Clean about 'Отделка'"
   ]
  },
  {
   "cell_type": "code",
   "execution_count": 45,
   "metadata": {},
   "outputs": [],
   "source": [
    "main_df['Отделка'].fillna('Другой', inplace=True)"
   ]
  },
  {
   "cell_type": "markdown",
   "metadata": {},
   "source": [
    "#### Clean about 'Площадь кухни, число'"
   ]
  },
  {
   "cell_type": "code",
   "execution_count": 46,
   "metadata": {},
   "outputs": [
    {
     "name": "stdout",
     "output_type": "stream",
     "text": [
      "Data Null : 3777\n",
      "Data Mode : 6.0\n"
     ]
    },
    {
     "data": {
      "text/plain": [
       "count    15891.000000\n",
       "mean        13.997533\n",
       "std          7.044985\n",
       "min          2.000000\n",
       "25%          8.200000\n",
       "50%         13.900000\n",
       "75%         18.000000\n",
       "max        100.000000\n",
       "Name: Площадь кухни, число, dtype: float64"
      ]
     },
     "execution_count": 46,
     "metadata": {},
     "output_type": "execute_result"
    }
   ],
   "source": [
    "main_df['Площадь кухни, число'] = main_df['Площадь кухни, число'].apply(lambda x: float(x.replace(\",\", \".\")) if type(x) == str else x)\n",
    "print(\"Data Null :\" , main_df['Площадь кухни, число'].isna().sum())\n",
    "print(\"Data Mode :\" , main_df['Площадь кухни, число'].mode()[0])\n",
    "main_df['Площадь кухни, число'].describe()"
   ]
  },
  {
   "cell_type": "code",
   "execution_count": 47,
   "metadata": {},
   "outputs": [],
   "source": [
    "rounded_number = round(main_df['Площадь кухни, число'].mode()[0], 1)\n",
    "main_df['Площадь кухни, число'].fillna(rounded_number, inplace=True)"
   ]
  },
  {
   "cell_type": "markdown",
   "metadata": {},
   "source": [
    "#### Clean about 'Тип комнат'"
   ]
  },
  {
   "cell_type": "code",
   "execution_count": 48,
   "metadata": {},
   "outputs": [],
   "source": [
    "main_df['Тип комнат'].fillna('Другой', inplace=True)"
   ]
  },
  {
   "cell_type": "markdown",
   "metadata": {},
   "source": [
    "### Split Dataset"
   ]
  },
  {
   "cell_type": "code",
   "execution_count": 49,
   "metadata": {},
   "outputs": [
    {
     "name": "stdout",
     "output_type": "stream",
     "text": [
      "(15734, 34)\n",
      "(2950, 34)\n",
      "(984, 34)\n"
     ]
    }
   ],
   "source": [
    "# Split the data into training (80%), testing (15%), and validation (5%)\n",
    "train_df, temp_df = train_test_split(main_df, test_size=0.2, random_state=42)\n",
    "test_df, val_df = train_test_split(temp_df, test_size=0.25, random_state=42)\n",
    "print(train_df.shape)\n",
    "print(test_df.shape)\n",
    "print(val_df.shape)"
   ]
  },
  {
   "cell_type": "markdown",
   "metadata": {},
   "source": [
    "### Divided into Categorical and Numerical dataset"
   ]
  },
  {
   "cell_type": "code",
   "execution_count": 50,
   "metadata": {},
   "outputs": [],
   "source": [
    "numerical_columns = ['Цена', 'Метро. Время', 'Сегодня просмотров', 'Всего просмотров', 'Количество комнат', 'Общая площадь, число', 'Этаж', 'Жилая площадь, число', 'Этажей в доме', 'Год постройки', 'Пассажирский лифт', 'Парковка', 'Двор', 'Грузовой лифт', 'Площадь кухни, число', 'Техника']\n",
    "categorical_columns = ['Метро', 'Метро2', 'Район', 'Продавец. Компания', 'Статус', 'Санузел', 'Балкон или лоджия', 'Окна', 'Ремонт', 'Способ продажи', 'Мебель', 'Вид сделки', 'Тип дома', 'В доме', 'Тёплый пол', 'Дополнительно', 'Отделка', 'Тип комнат']\n",
    "\n",
    "train_num_df = train_df[numerical_columns]\n",
    "train_cat_df = train_df[categorical_columns]\n",
    "test_num_df = test_df[numerical_columns]\n",
    "test_cat_df = test_df[categorical_columns]\n",
    "val_num_df = val_df[numerical_columns]\n",
    "val_cat_df = val_df[categorical_columns]"
   ]
  }
 ],
 "metadata": {
  "kernelspec": {
   "display_name": "base",
   "language": "python",
   "name": "python3"
  },
  "language_info": {
   "codemirror_mode": {
    "name": "ipython",
    "version": 3
   },
   "file_extension": ".py",
   "mimetype": "text/x-python",
   "name": "python",
   "nbconvert_exporter": "python",
   "pygments_lexer": "ipython3",
   "version": "3.11.7"
  }
 },
 "nbformat": 4,
 "nbformat_minor": 2
}
